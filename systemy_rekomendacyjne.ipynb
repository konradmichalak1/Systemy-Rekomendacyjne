{
 "cells": [
  {
   "cell_type": "markdown",
   "metadata": {},
   "source": [
    "# Systemy Rekomendacyjne - Realizacja zadania 10 "
   ]
  },
  {
   "cell_type": "markdown",
   "metadata": {},
   "source": [
    "###  Podsystem analizy wyników eksperymentów (Experiment Results Analyzer) wraz z niezbędnymi funkcjami systemu oceny działania systemu rekomendacyjnego (Evaluator)"
   ]
  },
  {
   "cell_type": "markdown",
   "metadata": {},
   "source": [
    "Realizacja zadania koncentruje się na zapewnieniu poprawnego pomiaru trafności rekomendacji dla dwóch najbardziej typowych scenariuszy aplikacyjnych systemów rekomendacyjnych [Herlocker]: \n",
    "- rekomendacji <b>Top-n</b> (przy czym N to długość listy rekomendacyjnej) \n",
    "- rekomendacji tożsamej <b>klasyfikacji binarnej</b> – należy zaimplementować dwa odrębne tryby pomiaru jakości rekomendacji.\n",
    "\n",
    "Należy zapewnić pomiar jakości zgodnie z powszechnie przyjętymi miarami – właściwymi dla danego trybu pomiaru jakości:\n",
    "- dla trybu <b>Top-n</b>: *P@N* i *R@N* dla kilku różnych wartości N – najlepiej w postaci krzywej (tj. łamanej) P(R),\n",
    "- dla trybu  <b>klasyfikacji binarnej</b>: *ACC (accuracy)*, *AUC (Area under Receiver Operating Characteristic Curve)* – najlepiej wraz z krzywą ROC."
   ]
  },
  {
   "cell_type": "markdown",
   "metadata": {},
   "source": [
    "Plik <b>*rating.csv*</b> zawiera 20 milionów ocen i został pobrany ze strony: http://files.grouplens.org/datasets/movielens/ml-20m-README.html "
   ]
  },
  {
   "cell_type": "markdown",
   "metadata": {},
   "source": [
    "### Teoria (źródło: https://developers.google.com/machine-learning/crash-course/classification/video-lecture)\n",
    "<b> Regresja logistyczna </b> - wiele problemów wymaga oszacowania prawdopodobieństwa jako wyniku. Regresja logistyczna umożliwia obliczenie tego prawdopodobieństwa na jeden z dwóch sposobów:\n",
    "- <b> \"Jak jest\" </b>  : Załóżmy, że tworzymy regresję logistyczną dla modelu który przewiduje prawdopodobieństwo, że dany film jest rekomendowany danemu użytkownikowi. Będzie ona miała postać: <b>*p(movieID | userID)*</b>\n",
    "- <b> Binarnie </b> : Celem jest predykcja czy dany film jest zarekomendowany danemu użytkownikowi czy nie. Wynikiem jest wartość 0 lub 1."
   ]
  },
  {
   "cell_type": "markdown",
   "metadata": {},
   "source": [
    "<b> Thresholding </b> - próg dla którego decydujemy czy film jest rekomendowany czy nie."
   ]
  },
  {
   "cell_type": "markdown",
   "metadata": {},
   "source": [
    "#### Klasyfikacje: True vs False oraz Positive vs Negative\n",
    "Mając film o danym ID, oraz użytkownika o danym ID, można zdefiniować czy film jest rekomendowany na poniższe sposoby:\n",
    "- <b>Klasa Positive:</b> Film rekomendowany danemu użytkownikowi\n",
    "- <b>Klasa Negative:</b> Film nierekomendowany danemu użytkownikowi\n",
    "\n",
    "<b><br> True Positive (TP): </b> Film został zarekomendowany i faktycznie jest rekomendowany\n",
    "<b><br> True Negative (TN):</b> Film nie został zarekomendowany i faktycznie nie powinien być rekomendowany\n",
    "<b><br> False Positive (FP):</b> Film został zarekomendowany a nie powinien być rekomendowany\n",
    "<b><br> False Negative (FN):</b> Film nie został zarekomendowany a powinien byc rekomendowany\n",
    "\n",
    "Zatem <b>True Positive</b> jest wynikiem, w którym model poprawnie przewiduje klasę pozytywną, a <b>True Negative</b> jest wynikiem, w którym model poprawnie przewiduje klasę negatywną.\n",
    "<br>\n",
    "<b>False Positive</b> jest wynikiem, w którym model niepoprawnie przewiduje klasę pozytywną, a <b>False Negative</b> w którym model niepoprawnie przewiduje klasę negatywną."
   ]
  },
  {
   "cell_type": "markdown",
   "metadata": {},
   "source": [
    "### Accuracy\n",
    "<b>Accuracy</b> - jest miarą oceny modeli klasyfikacji. \n",
    "<br> <b>*Accuracy*</b> = *(Liczba trafnych predykcji / Liczba wszystkich predykcji)*\n",
    "<br> <b>*Liczba trafnych predykcji*</b> = *TP + TN *\n",
    "<br> <b>*Liczba wszystkich predykcji*</b> = *TP + TN + FP + FN*\n",
    "<br> A zatem ostateczny wzór ma postać: <b>*Accuracy*</b> = *(TP + TN) / (TP + TN + FP + FN)* "
   ]
  },
  {
   "cell_type": "markdown",
   "metadata": {},
   "source": [
    "### Krzywa ROC \n",
    "<b>ROC Curve</b> (Receiver Operating Characteristic Curve) - jest wykresem pokazującym wydajność modelu klasyfikacyjnego przy wszystkich prograch klasyfikacji (Threshold). Krzywa przedstawia dwa parametry:\n",
    "- <b>True Positive Rate (TPR) </b>- jest synonimem Recall i definiowane jest wzorem: <b>*TPR*</b> = *TP / (TP + FN)*\n",
    "- <b>False Positive Rate (FPR)</b> - definiowane jest wzorem: <b>*FPR*</b> = *FP / (FP + TN)*"
   ]
  },
  {
   "cell_type": "markdown",
   "metadata": {},
   "source": [
    "Krzywa ROC jest wykresem postaci TPR(FPR) dla różnych progów klasyfikacji. Obniżenie Threshold powoduje, że więcej pozycji jest pozytywne, tym samym zwiększana jest liczba FP oraz TP. "
   ]
  },
  {
   "cell_type": "code",
   "execution_count": 1,
   "metadata": {
    "scrolled": true
   },
   "outputs": [
    {
     "data": {
      "image/png": "[encoded data removed]",
      "text/plain": [
       "<IPython.core.display.Image object>"
      ]
     },
     "execution_count": 1,
     "metadata": {
      "image/png": {
       "height": 306,
       "width": 353
      }
     },
     "output_type": "execute_result"
    }
   ],
   "source": [
    "from IPython.display import Image\n",
    "Image(filename=\"E:\\SEMESTR VII\\Systemy rekomendacyjne/ROCCurve.png\", width=353, height=306)"
   ]
  },
  {
   "cell_type": "markdown",
   "metadata": {},
   "source": [
    "### AUC  (Area Under the ROC Curve)\n",
    "Pole pod krzywą ROC. Liczony jest cały obszar pod krzywą ROC od punktu (0,0) do (1,1)."
   ]
  },
  {
   "cell_type": "markdown",
   "metadata": {},
   "source": [
    "<b>Precision</b> - jaka część pozytywnych identyfikacji była poprawna?\n",
    "<br> Wyrażane jest wzorem: <b>*Precision*</b> = *TP / (TP + FP)*\n",
    "<br>\n",
    "<br> <b>Recall</b> - jaka część rzeczywistych pozytywów została zidentyfikowana poprawnie?\n",
    "<br> Wyrażane jest wzorem: <b>*Recall*</b> = *TP / (TP + FN)*"
   ]
  },
  {
   "cell_type": "markdown",
   "metadata": {},
   "source": [
    "### Implementacja "
   ]
  },
  {
   "cell_type": "code",
   "execution_count": 1,
   "metadata": {},
   "outputs": [],
   "source": [
    "#biblioteki analizy danych\n",
    "import pandas as pd\n",
    "import numpy as np\n",
    "\n",
    "#biblioteki wizualizacji danych\n",
    "import matplotlib.pyplot as plt\n",
    "import seaborn as sns"
   ]
  },
  {
   "cell_type": "code",
   "execution_count": 2,
   "metadata": {},
   "outputs": [],
   "source": [
    "#ścieżka do danych\n",
    "source = 'E:\\SEMESTR VII\\Systemy rekomendacyjne\\MovieLens Data/'"
   ]
  },
  {
   "cell_type": "code",
   "execution_count": 4,
   "metadata": {},
   "outputs": [],
   "source": [
    "#wczytanie danych\n",
    "rating = pd.read_csv(source + 'rating.csv', sep=',')"
   ]
  },
  {
   "cell_type": "markdown",
   "metadata": {},
   "source": [
    "### 1) Opis tabeli rating.csv"
   ]
  },
  {
   "cell_type": "markdown",
   "metadata": {},
   "source": [
    "Plik <b>rating.csv</b> – informacje o ocenach filmów wystawionych przez użytkowników\n",
    "<br><b>*userId*</b> – identyfikator użytkownika który wystawił ocenę\n",
    "<br><b>*movieId*</b> – identyfikator ocenionego filmu\n",
    "<br><b>*rating*</b> – ocena w 5 gwiazdkowej skali: 0,5 – 5.0\n",
    "<br><b>*timestamp*</b> – czas wystawienia oceny\n",
    "\n"
   ]
  },
  {
   "cell_type": "code",
   "execution_count": 5,
   "metadata": {},
   "outputs": [
    {
     "data": {
      "text/html": [
       "<div>\n",
       "<style scoped>\n",
       "    .dataframe tbody tr th:only-of-type {\n",
       "        vertical-align: middle;\n",
       "    }\n",
       "\n",
       "    .dataframe tbody tr th {\n",
       "        vertical-align: top;\n",
       "    }\n",
       "\n",
       "    .dataframe thead th {\n",
       "        text-align: right;\n",
       "    }\n",
       "</style>\n",
       "<table border=\"1\" class=\"dataframe\">\n",
       "  <thead>\n",
       "    <tr style=\"text-align: right;\">\n",
       "      <th></th>\n",
       "      <th>userId</th>\n",
       "      <th>movieId</th>\n",
       "      <th>rating</th>\n",
       "      <th>timestamp</th>\n",
       "    </tr>\n",
       "  </thead>\n",
       "  <tbody>\n",
       "    <tr>\n",
       "      <th>0</th>\n",
       "      <td>1</td>\n",
       "      <td>2</td>\n",
       "      <td>3.5</td>\n",
       "      <td>2005-04-02 23:53:47</td>\n",
       "    </tr>\n",
       "    <tr>\n",
       "      <th>1</th>\n",
       "      <td>1</td>\n",
       "      <td>29</td>\n",
       "      <td>3.5</td>\n",
       "      <td>2005-04-02 23:31:16</td>\n",
       "    </tr>\n",
       "    <tr>\n",
       "      <th>2</th>\n",
       "      <td>1</td>\n",
       "      <td>32</td>\n",
       "      <td>3.5</td>\n",
       "      <td>2005-04-02 23:33:39</td>\n",
       "    </tr>\n",
       "    <tr>\n",
       "      <th>3</th>\n",
       "      <td>1</td>\n",
       "      <td>47</td>\n",
       "      <td>3.5</td>\n",
       "      <td>2005-04-02 23:32:07</td>\n",
       "    </tr>\n",
       "    <tr>\n",
       "      <th>4</th>\n",
       "      <td>1</td>\n",
       "      <td>50</td>\n",
       "      <td>3.5</td>\n",
       "      <td>2005-04-02 23:29:40</td>\n",
       "    </tr>\n",
       "  </tbody>\n",
       "</table>\n",
       "</div>"
      ],
      "text/plain": [
       "   userId  movieId  rating            timestamp\n",
       "0       1        2     3.5  2005-04-02 23:53:47\n",
       "1       1       29     3.5  2005-04-02 23:31:16\n",
       "2       1       32     3.5  2005-04-02 23:33:39\n",
       "3       1       47     3.5  2005-04-02 23:32:07\n",
       "4       1       50     3.5  2005-04-02 23:29:40"
      ]
     },
     "execution_count": 5,
     "metadata": {},
     "output_type": "execute_result"
    }
   ],
   "source": [
    "rating.head()"
   ]
  },
  {
   "cell_type": "markdown",
   "metadata": {},
   "source": [
    "### 2) Przygotowanie tabeli rating.csv "
   ]
  },
  {
   "cell_type": "markdown",
   "metadata": {},
   "source": [
    "#### a) Usunięcie zbędnej kolumny 'timestamp'\n"
   ]
  },
  {
   "cell_type": "code",
   "execution_count": 11,
   "metadata": {},
   "outputs": [],
   "source": [
    "#ścieżka do danych\n",
    "source = 'E:\\SEMESTR VII\\Systemy rekomendacyjne\\MovieLens Data/'\n",
    "#wczytanie danych\n",
    "rating = pd.read_csv(source + 'rating.csv', sep=',')\n",
    "columns = ['userId','movieId','rating']\n",
    "new_rating = rating[columns]\n",
    "new_rating.to_csv(source + 'rating files/rating.csv', index=False)"
   ]
  },
  {
   "cell_type": "code",
   "execution_count": 12,
   "metadata": {},
   "outputs": [
    {
     "data": {
      "text/plain": [
       "(20000263, 3)"
      ]
     },
     "execution_count": 12,
     "metadata": {},
     "output_type": "execute_result"
    }
   ],
   "source": [
    "#Rozmiar tabeli\n",
    "new_rating.shape"
   ]
  },
  {
   "cell_type": "code",
   "execution_count": 13,
   "metadata": {},
   "outputs": [
    {
     "data": {
      "text/html": [
       "<div>\n",
       "<style scoped>\n",
       "    .dataframe tbody tr th:only-of-type {\n",
       "        vertical-align: middle;\n",
       "    }\n",
       "\n",
       "    .dataframe tbody tr th {\n",
       "        vertical-align: top;\n",
       "    }\n",
       "\n",
       "    .dataframe thead th {\n",
       "        text-align: right;\n",
       "    }\n",
       "</style>\n",
       "<table border=\"1\" class=\"dataframe\">\n",
       "  <thead>\n",
       "    <tr style=\"text-align: right;\">\n",
       "      <th></th>\n",
       "      <th>userId</th>\n",
       "      <th>movieId</th>\n",
       "      <th>rating</th>\n",
       "    </tr>\n",
       "  </thead>\n",
       "  <tbody>\n",
       "    <tr>\n",
       "      <th>0</th>\n",
       "      <td>1</td>\n",
       "      <td>2</td>\n",
       "      <td>3.5</td>\n",
       "    </tr>\n",
       "    <tr>\n",
       "      <th>1</th>\n",
       "      <td>1</td>\n",
       "      <td>29</td>\n",
       "      <td>3.5</td>\n",
       "    </tr>\n",
       "    <tr>\n",
       "      <th>2</th>\n",
       "      <td>1</td>\n",
       "      <td>32</td>\n",
       "      <td>3.5</td>\n",
       "    </tr>\n",
       "    <tr>\n",
       "      <th>3</th>\n",
       "      <td>1</td>\n",
       "      <td>47</td>\n",
       "      <td>3.5</td>\n",
       "    </tr>\n",
       "    <tr>\n",
       "      <th>4</th>\n",
       "      <td>1</td>\n",
       "      <td>50</td>\n",
       "      <td>3.5</td>\n",
       "    </tr>\n",
       "  </tbody>\n",
       "</table>\n",
       "</div>"
      ],
      "text/plain": [
       "   userId  movieId  rating\n",
       "0       1        2     3.5\n",
       "1       1       29     3.5\n",
       "2       1       32     3.5\n",
       "3       1       47     3.5\n",
       "4       1       50     3.5"
      ]
     },
     "execution_count": 13,
     "metadata": {},
     "output_type": "execute_result"
    }
   ],
   "source": [
    "new_rating.head()"
   ]
  },
  {
   "cell_type": "markdown",
   "metadata": {},
   "source": [
    "#### b) Przeliczenie rekomendacji.\n",
    "Ocena wyższa lub równa 4 = Rekomendowane (1)\n",
    "<br> Ocena niższa niż 4 = Nierekomendowane (0)"
   ]
  },
  {
   "cell_type": "code",
   "execution_count": 14,
   "metadata": {},
   "outputs": [],
   "source": [
    "#Wczytanie pliku przygotowanego w podpunkcie a)\n",
    "rating = pd.read_csv(source + 'rating files/rating.csv', sep=',')"
   ]
  },
  {
   "cell_type": "code",
   "execution_count": 15,
   "metadata": {},
   "outputs": [],
   "source": [
    "#Wygenerowanie wartości rekomendacji na podstawie ocen\n",
    "rating['rating'] = np.where(rating['rating'] >= 4, 1, 0)"
   ]
  },
  {
   "cell_type": "code",
   "execution_count": 16,
   "metadata": {},
   "outputs": [
    {
     "data": {
      "text/html": [
       "<div>\n",
       "<style scoped>\n",
       "    .dataframe tbody tr th:only-of-type {\n",
       "        vertical-align: middle;\n",
       "    }\n",
       "\n",
       "    .dataframe tbody tr th {\n",
       "        vertical-align: top;\n",
       "    }\n",
       "\n",
       "    .dataframe thead th {\n",
       "        text-align: right;\n",
       "    }\n",
       "</style>\n",
       "<table border=\"1\" class=\"dataframe\">\n",
       "  <thead>\n",
       "    <tr style=\"text-align: right;\">\n",
       "      <th></th>\n",
       "      <th>userId</th>\n",
       "      <th>movieId</th>\n",
       "      <th>is_recommended</th>\n",
       "    </tr>\n",
       "  </thead>\n",
       "  <tbody>\n",
       "    <tr>\n",
       "      <th>0</th>\n",
       "      <td>1</td>\n",
       "      <td>2</td>\n",
       "      <td>0</td>\n",
       "    </tr>\n",
       "    <tr>\n",
       "      <th>1</th>\n",
       "      <td>1</td>\n",
       "      <td>29</td>\n",
       "      <td>0</td>\n",
       "    </tr>\n",
       "    <tr>\n",
       "      <th>2</th>\n",
       "      <td>1</td>\n",
       "      <td>32</td>\n",
       "      <td>0</td>\n",
       "    </tr>\n",
       "    <tr>\n",
       "      <th>3</th>\n",
       "      <td>1</td>\n",
       "      <td>47</td>\n",
       "      <td>0</td>\n",
       "    </tr>\n",
       "    <tr>\n",
       "      <th>4</th>\n",
       "      <td>1</td>\n",
       "      <td>50</td>\n",
       "      <td>0</td>\n",
       "    </tr>\n",
       "  </tbody>\n",
       "</table>\n",
       "</div>"
      ],
      "text/plain": [
       "   userId  movieId  is_recommended\n",
       "0       1        2               0\n",
       "1       1       29               0\n",
       "2       1       32               0\n",
       "3       1       47               0\n",
       "4       1       50               0"
      ]
     },
     "execution_count": 16,
     "metadata": {},
     "output_type": "execute_result"
    }
   ],
   "source": [
    "#Zmiana nazwy kolumny\n",
    "rating = rating.rename(columns={'rating': 'is_recommended'})\n",
    "rating.head()"
   ]
  },
  {
   "cell_type": "code",
   "execution_count": 26,
   "metadata": {},
   "outputs": [],
   "source": [
    "#Zapisanie do pliku\n",
    "rating.to_csv(source + 'rating files/ratingTrueTable.csv', index=False)"
   ]
  },
  {
   "cell_type": "markdown",
   "metadata": {},
   "source": [
    "### 3) Przygotowanie plików od systemu rekomendacyjnego\n",
    "Pliki mają postać: userId (int), movieId (int), is_recommended (float)\n",
    "<br>\n",
    "<br> Wyróżniane są 3 przypadki:\n",
    "<br>  a) możliwie najgorszy system rekomendacyjny (wartości losowe - accuracy około 50%)\n",
    "<br>  b) możliwie najlepszy system rekomendacyjny (wszystkie predykcje trafne)\n",
    "<br>  c) pozornie najgorszy system rekomendacyjny (wszystkie wartości nietrafione)"
   ]
  },
  {
   "cell_type": "code",
   "execution_count": 276,
   "metadata": {},
   "outputs": [],
   "source": [
    "#Nazwa pliku z tablicą prawdy\n",
    "truetable = 'ratingTrueTable.csv'"
   ]
  },
  {
   "cell_type": "markdown",
   "metadata": {},
   "source": [
    "#### a) Możliwie najgorszy system rekomendacyjny  \n",
    "Wartości są losowe"
   ]
  },
  {
   "cell_type": "code",
   "execution_count": 253,
   "metadata": {},
   "outputs": [],
   "source": [
    "#Wczytanie pliku\n",
    "rating = pd.read_csv(source + 'rating files/' + truetable, sep=',')\n",
    "#Wypełnienie kolumny is_recommended losowymi wartościami z zakresu 0-1\n",
    "rating['is_recommended'] = np.random.uniform(0.0,1.0,rating.shape[0])\n",
    "\n",
    "#Zapisanie do pliku\n",
    "rating.to_csv(source + 'rating files/mozliwieNajgorszyPrzypadek.csv', index=False)"
   ]
  },
  {
   "cell_type": "markdown",
   "metadata": {},
   "source": [
    "#### b) Możliwie najlepszy system rekomendacyjny \n",
    "Wszystkie predykcje są trafione"
   ]
  },
  {
   "cell_type": "code",
   "execution_count": 13,
   "metadata": {},
   "outputs": [],
   "source": [
    "#Wczytanie pliku\n",
    "rating = pd.read_csv(source + 'rating files/' + truetable, sep=',')\n",
    "\n",
    "#Zapisanie kopii do pliku\n",
    "rating.to_csv(source + 'rating files/mozliwieNajlepszyPrzypadek.csv', index=False)"
   ]
  },
  {
   "cell_type": "markdown",
   "metadata": {},
   "source": [
    "#### c) Pozornie najgorszy system rekomendacyjny\n",
    "Wszystkie wartości są nietrafione"
   ]
  },
  {
   "cell_type": "code",
   "execution_count": 277,
   "metadata": {},
   "outputs": [],
   "source": [
    "#Wczytanie tablicy prawdy\n",
    "rating = pd.read_csv(source + 'rating files/' + truetable, sep=',')\n",
    "#Wygenerowanie zanegowanych wartości rekomendacji na podstawie tablicy prawdy\n",
    "rating['is_recommended'] = np.where(rating['is_recommended'] == 0, 1, 0)\n",
    "\n",
    "#Zapisanie do pliku\n",
    "rating.to_csv(source + 'rating files/pozornieNajgorszyPrzypadek.csv', index=False)"
   ]
  },
  {
   "cell_type": "markdown",
   "metadata": {},
   "source": [
    "#### d) Przygotowanie pliku o Accuracy ~75% "
   ]
  },
  {
   "cell_type": "code",
   "execution_count": 236,
   "metadata": {},
   "outputs": [],
   "source": [
    "#Wczytanie pliku\n",
    "rating = pd.read_csv(source + 'rating files/' + truetable, sep=',')\n",
    "\n",
    "#Wypełnienie połowy wierszy is_recommended losowymi wartościami z zakresu 0-1. Reszta pozostaje bez zmian\n",
    "rating['is_recommended'] = np.where(rating['is_recommended'] == 1, np.random.uniform(0.6,1.0,rating.shape[0]), np.random.uniform(0.0,1.0,rating.shape[0]))\n",
    "\n",
    "#Zapisanie do pliku\n",
    "rating.to_csv(source + 'rating files/przecietnyPrzypadek.csv', index=False)"
   ]
  },
  {
   "cell_type": "markdown",
   "metadata": {},
   "source": [
    "### 4) Liczenie Accuracy "
   ]
  },
  {
   "cell_type": "code",
   "execution_count": 278,
   "metadata": {},
   "outputs": [],
   "source": [
    "import numpy as np\n",
    "from sklearn.metrics import accuracy_score"
   ]
  },
  {
   "cell_type": "code",
   "execution_count": 279,
   "metadata": {},
   "outputs": [],
   "source": [
    "#Tablica prawdy\n",
    "trueTable = pd.read_csv(source + 'rating files/ratingTrueTable.csv', sep=',')\n",
    "y_true = trueTable['is_recommended']"
   ]
  },
  {
   "cell_type": "markdown",
   "metadata": {},
   "source": [
    "#### a)  Accuracy dla możliwie najgorszego przypadku"
   ]
  },
  {
   "cell_type": "code",
   "execution_count": 259,
   "metadata": {},
   "outputs": [
    {
     "name": "stdout",
     "output_type": "stream",
     "text": [
      "Accuracy 0.5000070249076225\n"
     ]
    }
   ],
   "source": [
    "#Accuracy dla możliwie najgorszego przypadku\n",
    "predicted = pd.read_csv(source + 'rating files/mozliwieNajgorszyPrzypadek.csv', sep=',')\n",
    "y_pred = np.where(predicted['is_recommended'] > 0.5, 1, 0)\n",
    "#Wynik\n",
    "print(\"Accuracy\", accuracy_score(y_true, y_pred))"
   ]
  },
  {
   "cell_type": "markdown",
   "metadata": {},
   "source": [
    "#### b)  Accuracy dla możliwie najlepszego systemu rekomendacyjnego"
   ]
  },
  {
   "cell_type": "code",
   "execution_count": 39,
   "metadata": {},
   "outputs": [
    {
     "name": "stdout",
     "output_type": "stream",
     "text": [
      "Accuracy 1.0\n"
     ]
    }
   ],
   "source": [
    "#Accuracy dla możliwie najlepszego systemu rekomendacyjnego\n",
    "predicted = pd.read_csv(source + 'rating files/mozliwieNajlepszyPrzypadek.csv', sep=',')\n",
    "y_pred = predicted['is_recommended']\n",
    "#Wynik\n",
    "print(\"Accuracy\", accuracy_score(y_true, y_pred))"
   ]
  },
  {
   "cell_type": "markdown",
   "metadata": {},
   "source": [
    "#### c)  Accuracy dla pozornie najgorszego systemu rekomendacyjnego"
   ]
  },
  {
   "cell_type": "code",
   "execution_count": 280,
   "metadata": {},
   "outputs": [
    {
     "name": "stdout",
     "output_type": "stream",
     "text": [
      "Accuracy 0.0\n"
     ]
    }
   ],
   "source": [
    "#Accuracy dla pozornie najgorszego systemu rekomendacyjnego\n",
    "predicted = pd.read_csv(source + 'rating files/pozornieNajgorszyPrzypadek.csv', sep=',')\n",
    "y_pred = predicted['is_recommended']\n",
    "#Wynik\n",
    "print(\"Accuracy\", accuracy_score(y_true, y_pred))"
   ]
  },
  {
   "cell_type": "markdown",
   "metadata": {},
   "source": [
    "#### d)  Accuracy dla przeciętnego systemu rekomendacyjnego"
   ]
  },
  {
   "cell_type": "code",
   "execution_count": 260,
   "metadata": {},
   "outputs": [
    {
     "name": "stdout",
     "output_type": "stream",
     "text": [
      "Accuracy 0.7498250398007266\n"
     ]
    }
   ],
   "source": [
    "#Accuracy dla przeciętnego systemu rekomendacyjnego\n",
    "predicted = pd.read_csv(source + 'rating files/przecietnyPrzypadek.csv', sep=',')\n",
    "y_pred = np.where(predicted['is_recommended'] > 0.5, 1, 0)\n",
    "\n",
    "#Wynik\n",
    "print(\"Accuracy\", accuracy_score(y_true, y_pred))"
   ]
  },
  {
   "cell_type": "markdown",
   "metadata": {},
   "source": [
    "### 5) ROC Curve"
   ]
  },
  {
   "cell_type": "code",
   "execution_count": 282,
   "metadata": {},
   "outputs": [],
   "source": [
    "import numpy as np\n",
    "from sklearn import metrics\n",
    "from sklearn.metrics import accuracy_score, roc_curve, auc"
   ]
  },
  {
   "cell_type": "code",
   "execution_count": 283,
   "metadata": {},
   "outputs": [],
   "source": [
    "#Tablica prawdy\n",
    "trueTable = pd.read_csv(source + 'rating files/ratingTrueTable.csv', sep=',')\n",
    "y_true = trueTable['is_recommended']"
   ]
  },
  {
   "cell_type": "markdown",
   "metadata": {},
   "source": [
    "### a) Możliwie najgorszy przypadek "
   ]
  },
  {
   "cell_type": "code",
   "execution_count": 261,
   "metadata": {},
   "outputs": [],
   "source": [
    "predicted = pd.read_csv(source + 'rating files/mozliwieNajgorszyPrzypadek.csv', sep=',')\n",
    "y_pred = predicted['is_recommended']"
   ]
  },
  {
   "cell_type": "code",
   "execution_count": 262,
   "metadata": {},
   "outputs": [
    {
     "data": {
      "image/png": "[encoded data removed]",
      "text/plain": [
       "<matplotlib.figure.Figure at 0x217a3c0a278>"
      ]
     },
     "metadata": {},
     "output_type": "display_data"
    }
   ],
   "source": [
    "#Obliczenie False Positive Rate, True Positive Rate\n",
    "fpr, tpr, _ = roc_curve(y_true,  y_pred)\n",
    "#Obliczenie AUC\n",
    "auc = metrics.roc_auc_score(y_true, y_pred)\n",
    "\n",
    "#Wygenerowanie wykresu\n",
    "plt.figure()\n",
    "lw = 2\n",
    "plt.plot(fpr, tpr, color='darkorange',\n",
    "         lw=lw, label='ROC curve (AUC = %0.10f)' % auc)\n",
    "\n",
    "plt.plot([0, 1], [0, 1], color='navy', lw=lw, linestyle='--')\n",
    "plt.xlabel('False Positive Rate')\n",
    "plt.ylabel('True Positive Rate')\n",
    "plt.title('Receiver Operating Characteristic ')\n",
    "plt.legend(loc=\"lower right\")\n",
    "plt.show()"
   ]
  },
  {
   "cell_type": "markdown",
   "metadata": {},
   "source": [
    "### b) Możliwie najlepszy przypadek "
   ]
  },
  {
   "cell_type": "code",
   "execution_count": 46,
   "metadata": {},
   "outputs": [],
   "source": [
    "#Możliwie najlepszy przypadek\n",
    "predicted = pd.read_csv(source + 'rating files/mozliwieNajlepszyPrzypadek.csv', sep=',')\n",
    "y_pred = predicted['is_recommended']"
   ]
  },
  {
   "cell_type": "code",
   "execution_count": 47,
   "metadata": {},
   "outputs": [
    {
     "data": {
      "image/png": "[encoded data removed]",
      "text/plain": [
       "<matplotlib.figure.Figure at 0x15a10f0ae80>"
      ]
     },
     "metadata": {},
     "output_type": "display_data"
    }
   ],
   "source": [
    "#Obliczenie False Positive Rate, True Positive Rate\n",
    "fpr, tpr, _ = roc_curve(y_true,  y_pred)\n",
    "#Obliczenie AUC\n",
    "auc = metrics.roc_auc_score(y_true, y_pred)\n",
    "\n",
    "#Wygenerowanie wykresu\n",
    "plt.figure()\n",
    "lw = 2\n",
    "plt.plot(fpr, tpr, color='darkorange',\n",
    "         lw=lw, label='ROC curve (AUC = %0.10f)' % auc)\n",
    "\n",
    "plt.plot([0, 1], [0, 1], color='navy', lw=lw, linestyle='--')\n",
    "plt.xlabel('False Positive Rate')\n",
    "plt.ylabel('True Positive Rate')\n",
    "plt.title('Receiver Operating Characteristic ')\n",
    "plt.legend(loc=\"lower right\")\n",
    "plt.show()"
   ]
  },
  {
   "cell_type": "markdown",
   "metadata": {},
   "source": [
    "### c) Pozornie najgorszy przypadek "
   ]
  },
  {
   "cell_type": "code",
   "execution_count": 281,
   "metadata": {},
   "outputs": [],
   "source": [
    "#Możliwie najgorszy przypadek\n",
    "predicted = pd.read_csv(source + 'rating files/pozornieNajgorszyPrzypadek.csv', sep=',')\n",
    "y_pred = predicted['is_recommended']"
   ]
  },
  {
   "cell_type": "code",
   "execution_count": 284,
   "metadata": {},
   "outputs": [
    {
     "data": {
      "image/png": "[encoded data removed]",
      "text/plain": [
       "<matplotlib.figure.Figure at 0x2179ef85860>"
      ]
     },
     "metadata": {},
     "output_type": "display_data"
    }
   ],
   "source": [
    "fpr, tpr, _ = roc_curve(y_true,  y_pred)\n",
    "auc = metrics.roc_auc_score(y_true, y_pred)\n",
    "\n",
    "plt.figure()\n",
    "lw = 2\n",
    "plt.plot(fpr, tpr, color='darkorange',\n",
    "         lw=lw, label='ROC curve (AUC = %0.10f)' % auc)\n",
    "\n",
    "plt.plot([0, 1], [0, 1], color='navy', lw=lw, linestyle='--')\n",
    "plt.xlabel('False Positive Rate')\n",
    "plt.ylabel('True Positive Rate')\n",
    "plt.title('Receiver Operating Characteristic ')\n",
    "plt.legend(loc=\"lower right\")\n",
    "plt.show()"
   ]
  },
  {
   "cell_type": "markdown",
   "metadata": {},
   "source": [
    "### d) Acc ~ 75% "
   ]
  },
  {
   "cell_type": "code",
   "execution_count": 239,
   "metadata": {},
   "outputs": [],
   "source": [
    "#Możliwie najgorszy przypadek\n",
    "predicted = pd.read_csv(source + 'rating files/przecietnyPrzypadek.csv', sep=',')\n",
    "y_pred = predicted['is_recommended']"
   ]
  },
  {
   "cell_type": "code",
   "execution_count": 242,
   "metadata": {},
   "outputs": [
    {
     "data": {
      "image/png": "[encoded data removed]",
      "text/plain": [
       "<matplotlib.figure.Figure at 0x2179efabf28>"
      ]
     },
     "metadata": {},
     "output_type": "display_data"
    }
   ],
   "source": [
    "from sklearn.metrics import roc_curve, auc\n",
    "\n",
    "fpr, tpr, _ = roc_curve(y_true,  y_pred)\n",
    "\n",
    "auc = metrics.roc_auc_score(y_true, y_pred)\n",
    "plt.figure()\n",
    "lw = 2\n",
    "plt.plot(fpr,tpr, color='darkorange',\n",
    "         lw=lw, label='ROC curve (AUC = %0.10f)' % auc)\n",
    "\n",
    "plt.plot([0, 1], [0, 1], color='navy', lw=lw, linestyle='--')\n",
    "plt.xlabel('False Positive Rate')\n",
    "plt.ylabel('True Positive Rate')\n",
    "plt.title('Receiver Operating Characteristic ')\n",
    "plt.legend(loc=\"lower right\")\n",
    "plt.show()"
   ]
  },
  {
   "cell_type": "markdown",
   "metadata": {},
   "source": [
    "### 6) Precision / Recall "
   ]
  },
  {
   "cell_type": "code",
   "execution_count": 285,
   "metadata": {},
   "outputs": [],
   "source": [
    "from sklearn.metrics import precision_recall_curve\n",
    "import matplotlib.pyplot as plt\n",
    "from sklearn.utils.fixes import signature\n",
    "from sklearn.metrics import average_precision_score"
   ]
  },
  {
   "cell_type": "code",
   "execution_count": 286,
   "metadata": {},
   "outputs": [],
   "source": [
    "#Tablica prawdy\n",
    "trueTable = pd.read_csv(source + 'rating files/ratingTrueTable.csv', sep=',')\n",
    "trueTable = trueTable[0:100]\n",
    "y_train = trueTable['is_recommended']\n",
    "y_train = y_train.as_matrix()"
   ]
  },
  {
   "cell_type": "markdown",
   "metadata": {},
   "source": [
    "### a) Możliwie najgorszy przypadek "
   ]
  },
  {
   "cell_type": "code",
   "execution_count": 291,
   "metadata": {},
   "outputs": [],
   "source": [
    "#Możliwie najgorszy przypadek\n",
    "predicted = pd.read_csv(source + 'rating files/mozliwieNajgorszyPrzypadek.csv', sep=',')\n",
    "y_test = predicted['is_recommended']\n",
    "y_test = y_test[0:100]\n",
    "y_test = y_test.as_matrix()"
   ]
  },
  {
   "cell_type": "code",
   "execution_count": 292,
   "metadata": {},
   "outputs": [
    {
     "name": "stdout",
     "output_type": "stream",
     "text": [
      "Average precision-recall score: 0.50\n"
     ]
    },
    {
     "data": {
      "text/plain": [
       "Text(0.5,1,'2-class Precision-Recall curve: Average Precision=0.50')"
      ]
     },
     "execution_count": 292,
     "metadata": {},
     "output_type": "execute_result"
    },
    {
     "data": {
      "image/png": "[encoded data removed]",
      "text/plain": [
       "<matplotlib.figure.Figure at 0x2179f6eb978>"
      ]
     },
     "metadata": {},
     "output_type": "display_data"
    }
   ],
   "source": [
    "#Obliczenie precision i recall\n",
    "precision, recall, _ = precision_recall_curve(y_train, y_test)\n",
    "\n",
    "average_precision = average_precision_score(y_train, y_test)\n",
    "\n",
    "#Generowanie wykresu\n",
    "# In matplotlib < 1.5, plt.fill_between does not have a 'step' argument\n",
    "step_kwargs = ({'step': 'post'}\n",
    "               if 'step' in signature(plt.fill_between).parameters\n",
    "               else {})\n",
    "plt.step(recall, precision, color='b', alpha=0.2,\n",
    "         where='post')\n",
    "plt.fill_between(recall, precision, alpha=0.2, color='b', **step_kwargs)\n",
    "\n",
    "plt.xlabel('Recall')\n",
    "plt.ylabel('Precision')\n",
    "plt.ylim([0.0, 1.05])\n",
    "plt.xlim([0.0, 1.0])\n",
    "plt.title('2-class Precision-Recall curve: Average Precision={0:0.2f}'.format(\n",
    "          average_precision))"
   ]
  },
  {
   "cell_type": "markdown",
   "metadata": {},
   "source": [
    "### b) Możliwie najlepszy przypadek "
   ]
  },
  {
   "cell_type": "code",
   "execution_count": 295,
   "metadata": {},
   "outputs": [],
   "source": [
    "#Możliwie najgorszy przypadek\n",
    "predicted = pd.read_csv(source + 'rating files/mozliwieNajlepszyPrzypadek.csv', sep=',')\n",
    "y_test = predicted['is_recommended']\n",
    "y_test = y_test[0:100]\n",
    "y_test = y_test.as_matrix()"
   ]
  },
  {
   "cell_type": "code",
   "execution_count": 296,
   "metadata": {},
   "outputs": [
    {
     "name": "stdout",
     "output_type": "stream",
     "text": [
      "Average precision-recall score: 1.00\n"
     ]
    },
    {
     "data": {
      "text/plain": [
       "Text(0.5,1,'2-class Precision-Recall curve: Average Precision=1.00')"
      ]
     },
     "execution_count": 296,
     "metadata": {},
     "output_type": "execute_result"
    },
    {
     "data": {
      "image/png": "[encoded data removed]",
      "text/plain": [
       "<matplotlib.figure.Figure at 0x2179f721400>"
      ]
     },
     "metadata": {},
     "output_type": "display_data"
    }
   ],
   "source": [
    "#Obliczenie precision i recall\n",
    "precision, recall, _ = precision_recall_curve(y_train, y_test)\n",
    "\n",
    "average_precision = average_precision_score(y_train, y_test)\n",
    "\n",
    "#Generowanie wykresu\n",
    "# In matplotlib < 1.5, plt.fill_between does not have a 'step' argument\n",
    "step_kwargs = ({'step': 'post'}\n",
    "               if 'step' in signature(plt.fill_between).parameters\n",
    "               else {})\n",
    "plt.step(recall, precision, color='b', alpha=0.2,\n",
    "         where='post')\n",
    "plt.fill_between(recall, precision, alpha=0.2, color='b', **step_kwargs)\n",
    "\n",
    "plt.xlabel('Recall')\n",
    "plt.ylabel('Precision')\n",
    "plt.ylim([0.0, 1.05])\n",
    "plt.xlim([0.0, 1.0])\n",
    "plt.title('2-class Precision-Recall curve: Average Precision={0:0.2f}'.format(\n",
    "          average_precision))"
   ]
  },
  {
   "cell_type": "markdown",
   "metadata": {},
   "source": [
    "### c) Pozornie najgorszy przypadek "
   ]
  },
  {
   "cell_type": "code",
   "execution_count": 303,
   "metadata": {},
   "outputs": [],
   "source": [
    "#Możliwie najgorszy przypadek\n",
    "predicted = pd.read_csv(source + 'rating files/pozornieNajgorszyPrzypadek.csv', sep=',')\n",
    "y_test = predicted['is_recommended']\n",
    "y_test = y_test[0:100]\n",
    "y_test = y_test.as_matrix()"
   ]
  },
  {
   "cell_type": "code",
   "execution_count": 305,
   "metadata": {},
   "outputs": [
    {
     "data": {
      "text/plain": [
       "array([0, 0, 0, 0, 0, 0, 1, 1, 1, 1, 1, 1, 1, 0, 0, 1, 0, 0, 0, 0, 0, 0,\n",
       "       1, 1, 0, 0, 1, 1, 0, 0, 1, 1, 1, 0, 0, 1, 1, 0, 1, 0, 1, 0, 0, 1,\n",
       "       1, 1, 0, 0, 1, 1, 0, 0, 1, 1, 0, 0, 1, 0, 1, 1, 0, 0, 0, 0, 0, 1,\n",
       "       0, 0, 1, 1, 1, 1, 1, 1, 1, 1, 1, 0, 0, 1, 1, 1, 1, 0, 0, 0, 0, 0,\n",
       "       0, 0, 1, 0, 1, 0, 1, 0, 1, 1, 0, 0], dtype=int64)"
      ]
     },
     "execution_count": 305,
     "metadata": {},
     "output_type": "execute_result"
    }
   ],
   "source": [
    "y_train"
   ]
  },
  {
   "cell_type": "code",
   "execution_count": 306,
   "metadata": {},
   "outputs": [
    {
     "data": {
      "text/plain": [
       "array([1, 1, 1, 1, 1, 1, 0, 0, 0, 0, 0, 0, 0, 1, 1, 0, 1, 1, 1, 1, 1, 1,\n",
       "       0, 0, 1, 1, 0, 0, 1, 1, 0, 0, 0, 1, 1, 0, 0, 1, 0, 1, 0, 1, 1, 0,\n",
       "       0, 0, 1, 1, 0, 0, 1, 1, 0, 0, 1, 1, 0, 1, 0, 0, 1, 1, 1, 1, 1, 0,\n",
       "       1, 1, 0, 0, 0, 0, 0, 0, 0, 0, 0, 1, 1, 0, 0, 0, 0, 1, 1, 1, 1, 1,\n",
       "       1, 1, 0, 1, 0, 1, 0, 1, 0, 0, 1, 1], dtype=int64)"
      ]
     },
     "execution_count": 306,
     "metadata": {},
     "output_type": "execute_result"
    }
   ],
   "source": [
    "y_test"
   ]
  },
  {
   "cell_type": "code",
   "execution_count": 308,
   "metadata": {},
   "outputs": [
    {
     "data": {
      "text/plain": [
       "Text(0.5,1,'2-class Precision-Recall curve: Average Precision=0.48')"
      ]
     },
     "execution_count": 308,
     "metadata": {},
     "output_type": "execute_result"
    },
    {
     "data": {
      "image/png": "[encoded data removed]",
      "text/plain": [
       "<matplotlib.figure.Figure at 0x2179f7a5ac8>"
      ]
     },
     "metadata": {},
     "output_type": "display_data"
    }
   ],
   "source": [
    "#Obliczenie precision i recall\n",
    "precision, recall, _ = precision_recall_curve(y_train, y_test)\n",
    "\n",
    "average_precision = average_precision_score(y_train, y_test)\n",
    "\n",
    "#Generowanie wykresu\n",
    "# In matplotlib < 1.5, plt.fill_between does not have a 'step' argument\n",
    "step_kwargs = ({'step': 'post'}\n",
    "               if 'step' in signature(plt.fill_between).parameters\n",
    "               else {})\n",
    "plt.step(recall, precision, color='b', alpha=0.2,\n",
    "         where='post')\n",
    "plt.fill_between(recall, precision, alpha=0.2, color='b', **step_kwargs)\n",
    "\n",
    "plt.xlabel('Recall')\n",
    "plt.ylabel('Precision')\n",
    "plt.ylim([0.0, 1.05])\n",
    "plt.xlim([0.0, 1.0])\n",
    "plt.title('2-class Precision-Recall curve: Average Precision={0:0.2f}'.format(\n",
    "          average_precision))"
   ]
  },
  {
   "cell_type": "code",
   "execution_count": 289,
   "metadata": {},
   "outputs": [
    {
     "data": {
      "text/plain": [
       "array([0.48, 0.  , 1.  ])"
      ]
     },
     "execution_count": 289,
     "metadata": {},
     "output_type": "execute_result"
    }
   ],
   "source": [
    "precision"
   ]
  },
  {
   "cell_type": "code",
   "execution_count": 290,
   "metadata": {},
   "outputs": [
    {
     "data": {
      "text/plain": [
       "array([1., 0., 0.])"
      ]
     },
     "execution_count": 290,
     "metadata": {},
     "output_type": "execute_result"
    }
   ],
   "source": [
    "recall"
   ]
  },
  {
   "cell_type": "markdown",
   "metadata": {},
   "source": [
    "### d) Acc ~ 75% "
   ]
  },
  {
   "cell_type": "code",
   "execution_count": 299,
   "metadata": {},
   "outputs": [],
   "source": [
    "#Możliwie najgorszy przypadek\n",
    "predicted = pd.read_csv(source + 'rating files/przecietnyPrzypadek.csv', sep=',')\n",
    "y_test = predicted['is_recommended']\n",
    "y_test = y_test[0:100]\n",
    "y_test = y_test.as_matrix()"
   ]
  },
  {
   "cell_type": "code",
   "execution_count": 300,
   "metadata": {},
   "outputs": [
    {
     "name": "stdout",
     "output_type": "stream",
     "text": [
      "Average precision-recall score: 0.71\n"
     ]
    },
    {
     "data": {
      "text/plain": [
       "Text(0.5,1,'2-class Precision-Recall curve: Average Precision=0.71')"
      ]
     },
     "execution_count": 300,
     "metadata": {},
     "output_type": "execute_result"
    },
    {
     "data": {
      "image/png": "[encoded data removed]",
      "text/plain": [
       "<matplotlib.figure.Figure at 0x217a006bb38>"
      ]
     },
     "metadata": {},
     "output_type": "display_data"
    }
   ],
   "source": [
    "#Obliczenie precision i recall\n",
    "precision, recall, _ = precision_recall_curve(y_train, y_test)\n",
    "\n",
    "average_precision = average_precision_score(y_train, y_test)\n",
    "\n",
    "#Generowanie wykresu\n",
    "# In matplotlib < 1.5, plt.fill_between does not have a 'step' argument\n",
    "step_kwargs = ({'step': 'post'}\n",
    "               if 'step' in signature(plt.fill_between).parameters\n",
    "               else {})\n",
    "plt.step(recall, precision, color='b', alpha=0.2,\n",
    "         where='post')\n",
    "plt.fill_between(recall, precision, alpha=0.2, color='b', **step_kwargs)\n",
    "\n",
    "plt.xlabel('Recall')\n",
    "plt.ylabel('Precision')\n",
    "plt.ylim([0.0, 1.05])\n",
    "plt.xlim([0.0, 1.0])\n",
    "plt.title('2-class Precision-Recall curve: Average Precision={0:0.2f}'.format(\n",
    "          average_precision))"
   ]
  }
 ],
 "metadata": {
  "kernelspec": {
   "display_name": "Python 3",
   "language": "python",
   "name": "python3"
  },
  "language_info": {
   "codemirror_mode": {
    "name": "ipython",
    "version": 3
   },
   "file_extension": ".py",
   "mimetype": "text/x-python",
   "name": "python",
   "nbconvert_exporter": "python",
   "pygments_lexer": "ipython3",
   "version": "3.6.4"
  }
 },
 "nbformat": 4,
 "nbformat_minor": 2
}
